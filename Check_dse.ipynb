{
 "cells": [
  {
   "cell_type": "markdown",
   "metadata": {},
   "source": [
    "# Examine DSE data in a CITE library\n",
    "\n",
    "This notebook uses  a CEX release of HMT project data with known errors that were cleaned up in the summer, 2019, HMT seminar.  The purpose of this notebook is to illustrate how to identify inconsistencies in vectors of  `DsePassage`s using new functions introduced in version 6.0.0 of the `dse` library to  \n",
    "\n",
    "\n",
    "## Configure Jupyter notebook\n",
    "\n",
    "\n"
   ]
  },
  {
   "cell_type": "code",
   "execution_count": null,
   "metadata": {
    "inputHidden": false,
    "outputHidden": false
   },
   "outputs": [],
   "source": [
    "// 1. Add maven repository where we https://hub.gke.mybinder.org/user/neelsmith-nomisma-pwjvmfpa/notebooks/Untitled.ipynb?kernel_name=scala212#can find our libraries\n",
    "val myBT = coursierapi.MavenRepository.of(\"https://dl.bintray.com/neelsmith/maven\")\n",
    "interp.repositories() ++= Seq(myBT)"
   ]
  },
  {
   "cell_type": "code",
   "execution_count": null,
   "metadata": {
    "inputHidden": false,
    "outputHidden": false
   },
   "outputs": [],
   "source": [
    "// 2. Make libraries available with `$ivy` imports:\n",
    "import $ivy.`edu.holycross.shot::scm:7.2.0`\n",
    "import $ivy.`edu.holycross.shot.cite::xcite:4.2.0`\n",
    "import $ivy.`edu.holycross.shot::dse:6.0.2`\n"
   ]
  },
  {
   "cell_type": "markdown",
   "metadata": {},
   "source": [
    "## Load a CITE library from CEX source"
   ]
  },
  {
   "cell_type": "code",
   "execution_count": null,
   "metadata": {
    "inputHidden": false,
    "outputHidden": false
   },
   "outputs": [],
   "source": [
    "import edu.holycross.shot.scm._\n",
    "import edu.holycross.shot.cite._"
   ]
  },
  {
   "cell_type": "code",
   "execution_count": null,
   "metadata": {
    "inputHidden": false,
    "outputHidden": false
   },
   "outputs": [],
   "source": [
    "val url = \"https://raw.githubusercontent.com/homermultitext/hmt-archive/master/releases-cex/hmt-2018e-tweaked.cex\"\n",
    "val lib = CiteLibrarySource.fromUrl(url)\n",
    "\n",
    "// or if you've downloaded the data locally:\n",
    "//val f = \"hmt-2018e-errors.cex\"\n",
    "//val lib = CiteLibrarySource.fromFile(f)\n",
    "\n",
    "val citecoll = lib.collectionRepository.get"
   ]
  },
  {
   "cell_type": "markdown",
   "metadata": {},
   "source": [
    "## Assemble CITE collection objects for DSE collections\n",
    "\n",
    "This data set has only one collection implementing the DSE model.  We'll get all its DSE data as CITE Collection objects."
   ]
  },
  {
   "cell_type": "code",
   "execution_count": null,
   "metadata": {
    "inputHidden": false,
    "outputHidden": false
   },
   "outputs": [],
   "source": [
    "val dseModel = Cite2Urn(\"urn:cite2:cite:datamodels.v1:dsemodel\")\n",
    "val dseCollections = lib.collectionsForModel(dseModel)\n",
    "\n",
    "// verify that the data only include 1 collection:\n",
    "require(dseCollections.size == 1)\n",
    "val vaPageCollection = dseCollections(0)\n",
    "val vaPages = citecoll.objectsForCollection(vaPageCollection)"
   ]
  },
  {
   "cell_type": "markdown",
   "metadata": {},
   "source": [
    "Construct `DsePassage`s from the cite collection objects:"
   ]
  },
  {
   "cell_type": "code",
   "execution_count": null,
   "metadata": {},
   "outputs": [],
   "source": [
    "val vaDsePassages = vaPages.map(edu.holycross.shot.dse.DsePassage.fromCitableObject(_))\n",
    "\n"
   ]
  },
  {
   "cell_type": "markdown",
   "metadata": {
    "inputHidden": false,
    "outputHidden": false
   },
   "source": [
    "## Use `DseVector` object to find inconsistencies\n",
    "\n",
    "Text pages with multiple DSE entries are verboten."
   ]
  },
  {
   "cell_type": "code",
   "execution_count": null,
   "metadata": {},
   "outputs": [],
   "source": [
    "val duplicateTexts = edu.holycross.shot.dse.DseVector.duplicatePassages(vaDsePassages)\n",
    "println(duplicateTexts.size + \" texts appear more than once in the DSE passages.\")"
   ]
  },
  {
   "cell_type": "markdown",
   "metadata": {},
   "source": [
    "Require that text-bearing surfaces be indexed consistently to a single reference image."
   ]
  },
  {
   "cell_type": "code",
   "execution_count": null,
   "metadata": {},
   "outputs": [],
   "source": [
    "val badPageIndexing = edu.holycross.shot.dse.DseVector.doubleIndexedSurfaces(vaDsePassages)\n",
    "println(badPageIndexing.size + \" pages are indexed to more than one reference image.\")"
   ]
  },
  {
   "cell_type": "markdown",
   "metadata": {},
   "source": [
    "## (Optional) Obsessive consistency checking"
   ]
  },
  {
   "cell_type": "markdown",
   "metadata": {},
   "source": [
    "Check that text passages appearing on each surface are indexed to the same reference image as the physical surface.\n",
    "\n",
    ">Warning: this step is **slow**.\n",
    "\n",
    "\n",
    "In practical terms, this function is often unnecessary.  If you're building from source such as a delimited-text listing of DSE triples, the `doubleIndexedSurfaces` function will much more quickly identify the same pages with errors."
   ]
  },
  {
   "cell_type": "code",
   "execution_count": null,
   "metadata": {},
   "outputs": [],
   "source": [
    "val dseInconsistencies = edu.holycross.shot.dse.DseVector.triangleConsistencyErrors(vaDsePassages)\n",
    "println(dseInconsistencies.size + \" entries had inconsistencies between text passage and surface.\")"
   ]
  },
  {
   "cell_type": "code",
   "execution_count": null,
   "metadata": {},
   "outputs": [],
   "source": []
  }
 ],
 "metadata": {
  "kernel_info": {
   "name": "scala212"
  },
  "kernelspec": {
   "display_name": "Scala (2.12)",
   "language": "scala",
   "name": "scala212"
  },
  "language_info": {
   "codemirror_mode": "text/x-scala",
   "file_extension": ".scala",
   "mimetype": "text/x-scala",
   "name": "scala",
   "nbconvert_exporter": "script",
   "version": "2.12.10"
  },
  "nteract": {
   "version": "0.15.0"
  }
 },
 "nbformat": 4,
 "nbformat_minor": 2
}
