{
  "cells": [
    {
      "cell_type": "markdown",
      "source": [
        "# Build a library of citable resources from an HMT release\n",
        "\n",
        "## Configure Jupyter notebook\n",
        "\n",
        "\n"
      ],
      "metadata": {}
    },
    {
      "cell_type": "code",
      "source": [
        "// 1. Add maven repository where we can find our libraries\n",
        "val myBT = coursierapi.MavenRepository.of(\"https://dl.bintray.com/neelsmith/maven\")\n",
        "interp.repositories() ++= Seq(myBT)"
      ],
      "outputs": [],
      "execution_count": null,
      "metadata": {}
    },
    {
      "cell_type": "code",
      "source": [
        "// 2. Make libraries available with `$ivy` imports:\n",
        "import $ivy.`edu.holycross.shot::scm:7.2.0`\n",
        "import $ivy.`edu.holycross.shot::ohco2:10.18.2`\n",
        "import $ivy.`edu.holycross.shot.cite::xcite:4.2.0`"
      ],
      "outputs": [],
      "execution_count": null,
      "metadata": {}
    },
    {
      "cell_type": "markdown",
      "source": [
        "## Load a CITE library\n",
        "\n",
        "Data releases of the Homer Multitext project archive are published as CITE libraries, and committed to the `hmt-archive` github repository in CEX format.  The following cell shows how to create a CITE library from a URL pointing to a release of the HMT project archive.\n",
        "\n",
        "(The most recent release of the archive is always available from [this directory](https://github.com/homermultitext/hmt-archive/tree/master/releases-cex):  you can check there to update the release version in the following cell.)  \n"
      ],
      "metadata": {}
    },
    {
      "cell_type": "code",
      "source": [
        "import edu.holycross.shot.scm._\n",
        "\n",
        "// Check for most recent release at\n",
        "// https://github.com/homermultitext/hmt-archive/tree/master/releases-cex\n",
        "// and change this value if needed:\n",
        "val url = \"https://raw.githubusercontent.com/homermultitext/hmt-archive/master/releases-cex/hmt-2020c.cex\"\n",
        "val lib = CiteLibrarySource.fromUrl(url)"
      ],
      "outputs": [],
      "execution_count": null,
      "metadata": {}
    }
  ],
  "metadata": {
    "kernelspec": {
      "name": "scala212",
      "language": "scala",
      "display_name": "Scala212 (almond)"
    },
    "language_info": {
      "name": "scala",
      "version": "2.12.10",
      "mimetype": "text/x-scala",
      "file_extension": ".scala",
      "nbconvert_exporter": "script",
      "codemirror_mode": "text/x-scala"
    },
    "kernel_info": {
      "name": "scala212"
    },
    "nteract": {
      "version": "0.15.0"
    }
  },
  "nbformat": 4,
  "nbformat_minor": 2
}